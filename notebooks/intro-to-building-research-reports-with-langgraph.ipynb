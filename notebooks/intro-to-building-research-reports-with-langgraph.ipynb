{
 "cells": [
  {
   "cell_type": "code",
   "execution_count": 1,
   "metadata": {},
   "outputs": [],
   "source": [
    "# inspired by: \n",
    "# !pip install -qU \\\n",
    "#     langchain-openai==0.1.9 \\\n",
    "#     langchain==0.2.5 \\\n",
    "#     langchain-core==0.2.9 \\\n",
    "#     langgraph==0.1.1 \\\n",
    "#     serpapi==0.1.5 \\\n",
    "#     google-search-results==2.4.2"
   ]
  },
  {
   "cell_type": "code",
   "execution_count": 42,
   "metadata": {},
   "outputs": [],
   "source": [
    "from typing import TypedDict, Annotated\n",
    "from langchain_core.agents import AgentAction\n",
    "from langchain_core.messages import BaseMessage\n",
    "import operator\n",
    "\n",
    "\n",
    "class AgentState(TypedDict):\n",
    "   input: str\n",
    "   chat_history: list[BaseMessage]\n",
    "   intermediate_steps: Annotated[list[tuple[AgentAction, str]], operator.add]"
   ]
  },
  {
   "cell_type": "markdown",
   "metadata": {},
   "source": [
    "Function to fetch abstracts from arxiv papers."
   ]
  },
  {
   "cell_type": "code",
   "execution_count": 43,
   "metadata": {},
   "outputs": [],
   "source": [
    "from langchain_core.tools import tool\n",
    "import re\n",
    "import requests\n",
    "\n",
    "\n",
    "@tool(\"fetch_arxiv\")\n",
    "def fetch_arxiv(arxiv_id: str):\n",
    "   \"\"\"Gets the abstract from an ArXiv paper given the arxiv ID. Useful for\n",
    "   finding high-level context about a specific paper.\"\"\"\n",
    "   # get paper page in html\n",
    "   abstract_pattern = re.compile(\n",
    "    r'<blockquote class=\"abstract mathjax\">\\s*<span class=\"descriptor\">Abstract:</span>\\s*(.*?)\\s*</blockquote>',\n",
    "    re.DOTALL)\n",
    "   res = requests.get(\n",
    "       f\"https://export.arxiv.org/abs/{arxiv_id}\"\n",
    "   )\n",
    "   # search html for abstract\n",
    "   re_match = abstract_pattern.search(res.text)\n",
    "   # return abstract text\n",
    "   return re_match.group(1)"
   ]
  },
  {
   "cell_type": "code",
   "execution_count": 44,
   "metadata": {},
   "outputs": [
    {
     "name": "stdout",
     "output_type": "stream",
     "text": [
      "We propose a safe DRL approach for autonomous vehicle (AV) navigation through\n",
      "crowds of pedestrians while making a left turn at an unsignalized intersection.\n",
      "Our method uses two long-short term memory (LSTM) models that are trained to\n",
      "generate the perceived state of the environment and the future trajectories of\n",
      "pedestrians given noisy observations of their movement. A future collision\n",
      "prediction algorithm based on the future trajectories of the ego vehicle and\n",
      "pedestrians is used to mask unsafe actions if the system predicts a collision.\n",
      "The performance of our approach is evaluated in two experiments using the\n",
      "high-fidelity CARLA simulation environment. The first experiment tests the\n",
      "performance of our method at intersections that are similar to the training\n",
      "intersection and the second experiment tests our method at intersections with a\n",
      "different topology. For both experiments, our methods do not result in a\n",
      "collision with a pedestrian while still navigating the intersection at a\n",
      "reasonable speed.\n"
     ]
    }
   ],
   "source": [
    "arxiv_id = \"2106.04561\"\n",
    "print(\n",
    "    fetch_arxiv.invoke(input={\"arxiv_id\": arxiv_id})\n",
    ")"
   ]
  },
  {
   "cell_type": "code",
   "execution_count": 46,
   "metadata": {},
   "outputs": [
    {
     "data": {
      "text/plain": [
       "[{'position': 1,\n",
       "  'title': 'Owl',\n",
       "  'link': 'https://en.wikipedia.org/wiki/Owl',\n",
       "  'redirect_link': 'https://www.google.com/url?sa=t&source=web&rct=j&opi=89978449&url=https://en.wikipedia.org/wiki/Owl&ved=2ahUKEwiNiaCY1faHAxWRF1kFHYz8DEUQFnoECGQQAQ',\n",
       "  'displayed_link': 'https://en.wikipedia.org › wiki › Owl',\n",
       "  'thumbnail': 'https://encrypted-tbn0.gstatic.com/images?q=tbn:ANd9GcRI14fBM6nP9tJFH0uEWxG8Zrpnwf6MRzYX5FABjslxTN0RQcTS2s2c&usqp=CAE&s',\n",
       "  'favicon': 'https://serpapi.com/searches/66bdc7dec97e3566b193cd4f/images/40438073b11f55277a27533c9cd082537397bb214283074c7c3d6910fee3a647.png',\n",
       "  'snippet': 'Owls are birds from the order Strigiformes which includes over 200 species of mostly solitary and nocturnal birds of prey typified by an upright stance, ...',\n",
       "  'snippet_highlighted_words': ['Owls'],\n",
       "  'source': 'Wikipedia'},\n",
       " {'position': 2,\n",
       "  'title': 'Owls Browse by Shape, All About Birds, Cornell Lab of ...',\n",
       "  'link': 'https://www.allaboutbirds.org/guide/browse/shape/Owls',\n",
       "  'redirect_link': 'https://www.google.com/url?sa=t&source=web&rct=j&opi=89978449&url=https://www.allaboutbirds.org/guide/browse/shape/Owls&ved=2ahUKEwiNiaCY1faHAxWRF1kFHYz8DEUQFnoECHgQAQ',\n",
       "  'displayed_link': 'https://www.allaboutbirds.org › guide › shape › Owls',\n",
       "  'thumbnail': 'https://encrypted-tbn0.gstatic.com/images?q=tbn:ANd9GcTN4SsLbdB5AN3vKoSbrw2bGDLEbiHrfmxfPucyfjhnGKLXZf7D2bJDngG4smpE3WaBkg&s',\n",
       "  'favicon': 'https://serpapi.com/searches/66bdc7dec97e3566b193cd4f/images/40438073b11f55277a27533c9cd08253c35fcba4ba22a931c05e7a94ae685bea.png',\n",
       "  'snippet': \"Bird GuideBrowse by Shape · Owls · Antillean Nighthawk · Barn Owl · Barred Owl · Boreal Owl · Burrowing Owl · Chuck-will's-widow · Common Nighthawk.\",\n",
       "  'snippet_highlighted_words': ['Owls', 'Owl', 'Owl', 'Owl', 'Owl'],\n",
       "  'images': ['https://encrypted-tbn0.gstatic.com/images?q=tbn:ANd9GcTN4SsLbdB5AN3vKoSbrw2bGDLEbiHrfmxfPucyfjhnGKLXZf7D2bJDngG4smpE3WaBkg&s',\n",
       "   'https://encrypted-tbn0.gstatic.com/images?q=tbn:ANd9GcST3snuEGhsUdqMvahr1_BRq7h-GT18vmd2Ug7ZKZ7DYvkQxzbtipirtrN82tlC31EFiDI&s',\n",
       "   'https://encrypted-tbn0.gstatic.com/images?q=tbn:ANd9GcTJb9Zwg5Vrw_1TboWIEYbqtJXzy2tsMy_t3en4txp_mlUVs_6ASCOu&s'],\n",
       "  'source': 'All About Birds'},\n",
       " {'position': 3,\n",
       "  'title': 'Owl | Types, Species, & Facts',\n",
       "  'link': 'https://www.britannica.com/animal/owl',\n",
       "  'redirect_link': 'https://www.google.com/url?sa=t&source=web&rct=j&opi=89978449&url=https://www.britannica.com/animal/owl&ved=2ahUKEwiNiaCY1faHAxWRF1kFHYz8DEUQFnoECGwQAQ',\n",
       "  'displayed_link': 'https://www.britannica.com › ... › Birds',\n",
       "  'thumbnail': 'https://encrypted-tbn0.gstatic.com/images?q=tbn:ANd9GcSCcKnHOjSbDy4a8O7g9x8gvX4STRSpMpBkfolZidg3tDd5lYm8d-9z&usqp=CAE&s',\n",
       "  'favicon': 'https://serpapi.com/searches/66bdc7dec97e3566b193cd4f/images/40438073b11f55277a27533c9cd0825349afe666c9355261ca5fde14b79980e0.png',\n",
       "  'date': 'Jul 7, 2024',\n",
       "  'snippet': 'Owl, (order Strigiformes), any member of a homogeneous order of primarily nocturnal raptors found nearly worldwide. The bird of Athena, ...',\n",
       "  'snippet_highlighted_words': ['Owl'],\n",
       "  'source': 'Britannica'},\n",
       " {'position': 4,\n",
       "  'title': 'about owls',\n",
       "  'link': 'https://www.owlresearchinstitute.org/owls-1',\n",
       "  'redirect_link': 'https://www.google.com/url?sa=t&source=web&rct=j&opi=89978449&url=https://www.owlresearchinstitute.org/owls-1&ved=2ahUKEwiNiaCY1faHAxWRF1kFHYz8DEUQFnoECGUQAQ',\n",
       "  'displayed_link': 'https://www.owlresearchinstitute.org › owls-1',\n",
       "  'thumbnail': 'https://encrypted-tbn0.gstatic.com/images?q=tbn:ANd9GcSEmiPHxSDvGisC08xbOLswB_ZKNmY1z9pjk9mIZRsfVREQjtr9gigE&usqp=CAE&s',\n",
       "  'favicon': 'https://serpapi.com/searches/66bdc7dec97e3566b193cd4f/images/40438073b11f55277a27533c9cd0825375353ca5c0bd82a9de4d62d954308ae6.jpeg',\n",
       "  'snippet': 'Like hawks and eagles, owls are called raptors, or birds of prey, which means they use sharp talons and curved bills to hunt, kill, and eat other animals.',\n",
       "  'snippet_highlighted_words': ['owls'],\n",
       "  'source': 'Owl Research Institute'},\n",
       " {'position': 5,\n",
       "  'title': 'Owl - Harry Potter Wiki - Fandom',\n",
       "  'link': 'https://harrypotter.fandom.com/wiki/Owl',\n",
       "  'redirect_link': 'https://www.google.com/url?sa=t&source=web&rct=j&opi=89978449&url=https://harrypotter.fandom.com/wiki/Owl&ved=2ahUKEwiNiaCY1faHAxWRF1kFHYz8DEUQFnoECGMQAQ',\n",
       "  'displayed_link': 'https://harrypotter.fandom.com › wiki › Owl',\n",
       "  'favicon': 'https://serpapi.com/searches/66bdc7dec97e3566b193cd4f/images/40438073b11f55277a27533c9cd0825342c1e6f2b7c6b6c83a2a763273e94c1d.png',\n",
       "  'snippet': 'An owl was a magical bird of prey. Normally, most British owls were nocturnal, and owls generally keep to themselves, but in the wizarding world they served ...',\n",
       "  'snippet_highlighted_words': ['owl', 'owls', 'owls'],\n",
       "  'source': 'Harry Potter Wiki'},\n",
       " {'position': 6,\n",
       "  'title': 'The secret world of owls',\n",
       "  'link': 'https://www.youtube.com/watch?v=ZJ9PdDKbYtA',\n",
       "  'displayed_link': '143.5K+ views · 1 year ago',\n",
       "  'thumbnail': 'https://i.ytimg.com/vi/ZJ9PdDKbYtA/mqdefault.jpg?sqp=-oaymwEFCJQBEFM&rs=AMzJL3l0bjEEWjr5oCc8tjVvWDFCW0v3Ig',\n",
       "  'favicon': 'https://serpapi.com/searches/66bdc7dec97e3566b193cd4f/images/40438073b11f55277a27533c9cd08253fdbd2b53cb2de1aa82a862eec24a6fb4.png',\n",
       "  'snippet': \"When David Johnson was 11 years old, an eastern screech owl landed on the edge of his tent. He was captivated. Today, he's the director of ...\",\n",
       "  'video_link': 'https://encrypted-vtbn0.gstatic.com/video?q=tbn:ANd9GcQcnvbfENXG8f0DhXXmG5v69gofP38gNFqCVQ',\n",
       "  'source': 'YouTube · CBS Sunday Morning'},\n",
       " {'position': 7,\n",
       "  'title': 'Owls',\n",
       "  'link': 'https://www.massaudubon.org/nature-wildlife/birds/owls',\n",
       "  'redirect_link': 'https://www.google.com/url?sa=t&source=web&rct=j&opi=89978449&url=https://www.massaudubon.org/nature-wildlife/birds/owls&ved=2ahUKEwiNiaCY1faHAxWRF1kFHYz8DEUQFnoECGIQAQ',\n",
       "  'displayed_link': 'https://www.massaudubon.org › nature-wildlife › birds',\n",
       "  'favicon': 'https://serpapi.com/searches/66bdc7dec97e3566b193cd4f/images/40438073b11f55277a27533c9cd08253bc2a0db66fe8371f917d857ed040a77a.png',\n",
       "  'snippet': \"There are eight owl species that you may spot in Massachusetts. They're found in all sorts of habitats, including dense forests, wood lots, swamps, marshes, ...\",\n",
       "  'snippet_highlighted_words': ['owl'],\n",
       "  'source': 'Mass Audubon'},\n",
       " {'position': 8,\n",
       "  'title': 'Owls - Big Bend National Park (U.S. ...',\n",
       "  'link': 'https://www.nps.gov/bibe/learn/nature/owls.htm?simple=true',\n",
       "  'redirect_link': 'https://www.google.com/url?sa=t&source=web&rct=j&opi=89978449&url=https://www.nps.gov/bibe/learn/nature/owls.htm%3Fsimple%3Dtrue&ved=2ahUKEwiNiaCY1faHAxWRF1kFHYz8DEUQFnoECH8QAQ',\n",
       "  'displayed_link': 'https://www.nps.gov › bibe › learn › nature › owls',\n",
       "  'favicon': 'https://serpapi.com/searches/66bdc7dec97e3566b193cd4f/images/40438073b11f55277a27533c9cd08253a168f77b59d9e96faff0203de4ff6dbb.png',\n",
       "  'snippet': 'Owls have sharp, curved, vice-like talons. They are made of keratin, which surrounds a living core. As their talons wear down, they continue to grow and get ...',\n",
       "  'snippet_highlighted_words': ['Owls'],\n",
       "  'source': 'National Park Service (.gov)'},\n",
       " {'position': 9,\n",
       "  'title': 'Types of Owls: All Owl Species in the United States',\n",
       "  'link': 'https://abcbirds.org/blog20/owl-species-united-states/',\n",
       "  'redirect_link': 'https://www.google.com/url?sa=t&source=web&rct=j&opi=89978449&url=https://abcbirds.org/blog20/owl-species-united-states/&ved=2ahUKEwiNiaCY1faHAxWRF1kFHYz8DEUQFnoFCJMBEAE',\n",
       "  'displayed_link': 'https://abcbirds.org › Bird Calls Blog',\n",
       "  'favicon': 'https://serpapi.com/searches/66bdc7dec97e3566b193cd4f/images/40438073b11f55277a27533c9cd082534b719e615e3a7dbadb3599f438394b65.png',\n",
       "  'date': 'Jan 21, 2020',\n",
       "  'snippet': 'Nineteen types of owls are found in the United States, ranging from the diminutive Elf Owl to the massive Great Gray Owl. Check out the ...',\n",
       "  'snippet_highlighted_words': ['owls', 'Owl', 'Owl'],\n",
       "  'source': 'American Bird Conservancy'},\n",
       " {'position': 10,\n",
       "  'title': 'Owls | Audubon',\n",
       "  'link': 'https://www.audubon.org/bird-family/owls',\n",
       "  'redirect_link': 'https://www.google.com/url?sa=t&source=web&rct=j&opi=89978449&url=https://www.audubon.org/bird-family/owls&ved=2ahUKEwiNiaCY1faHAxWRF1kFHYz8DEUQFnoFCI8BEAE',\n",
       "  'displayed_link': 'https://www.audubon.org › bird-family › owls',\n",
       "  'favicon': 'https://serpapi.com/searches/66bdc7dec97e3566b193cd4f/images/40438073b11f55277a27533c9cd082535111a37082e4d14ca1679b6abc131cca.png',\n",
       "  'snippet': 'Audubon protects birds and the places they need, today and tomorrow. Learn about our work. Stay connected.',\n",
       "  'source': 'National Audubon Society'}]"
      ]
     },
     "execution_count": 46,
     "metadata": {},
     "output_type": "execute_result"
    }
   ],
   "source": [
    "from serpapi import GoogleSearch\n",
    "import os\n",
    "import getpass\n",
    "\n",
    "serpapi_params = {\n",
    "    \"engine\": \"google\",\n",
    "    \"api_key\": os.getenv(\"SERPAPI_KEY\") or getpass(\"SerpAPI key: \")\n",
    "}\n",
    "\n",
    "search = GoogleSearch({\n",
    "    **serpapi_params,\n",
    "    \"q\": \"Owls\"\n",
    "})\n",
    "\n",
    "results = search.get_dict()[\"organic_results\"]\n",
    "results"
   ]
  },
  {
   "cell_type": "code",
   "execution_count": 47,
   "metadata": {},
   "outputs": [],
   "source": [
    "contexts = \"\\n---\\n\".join(\n",
    "    [\"\\n\".join([x[\"title\"], x[\"snippet\"], x[\"link\"]]) for x in results]\n",
    ")"
   ]
  },
  {
   "cell_type": "code",
   "execution_count": 48,
   "metadata": {},
   "outputs": [
    {
     "name": "stdout",
     "output_type": "stream",
     "text": [
      "Owl\n",
      "Owls are birds from the order Strigiformes which includes over 200 species of mostly solitary and nocturnal birds of prey typified by an upright stance, ...\n",
      "https://en.wikipedia.org/wiki/Owl\n",
      "---\n",
      "Owls Browse by Shape, All About Birds, Cornell Lab of ...\n",
      "Bird GuideBrowse by Shape · Owls · Antillean Nighthawk · Barn Owl · Barred Owl · Boreal Owl · Burrowing Owl · Chuck-will's-widow · Common Nighthawk.\n",
      "https://www.allaboutbirds.org/guide/browse/shape/Owls\n",
      "---\n",
      "Owl | Types, Species, & Facts\n",
      "Owl, (order Strigiformes), any member of a homogeneous order of primarily nocturnal raptors found nearly worldwide. The bird of Athena, ...\n",
      "https://www.britannica.com/animal/owl\n",
      "---\n",
      "about owls\n",
      "Like hawks and eagles, owls are called raptors, or birds of prey, which means they use sharp talons and curved bills to hunt, kill, and eat other animals.\n",
      "https://www.owlresearchinstitute.org/owls-1\n",
      "---\n",
      "Owl - Harry Potter Wiki - Fandom\n",
      "An owl was a magical bird of prey. Normally, most British owls were nocturnal, and owls generally keep to themselves, but in the wizarding world they served ...\n",
      "https://harrypotter.fandom.com/wiki/Owl\n",
      "---\n",
      "The secret world of owls\n",
      "When David Johnson was 11 years old, an eastern screech owl landed on the edge of his tent. He was captivated. Today, he's the director of ...\n",
      "https://www.youtube.com/watch?v=ZJ9PdDKbYtA\n",
      "---\n",
      "Owls\n",
      "There are eight owl species that you may spot in Massachusetts. They're found in all sorts of habitats, including dense forests, wood lots, swamps, marshes, ...\n",
      "https://www.massaudubon.org/nature-wildlife/birds/owls\n",
      "---\n",
      "Owls - Big Bend National Park (U.S. ...\n",
      "Owls have sharp, curved, vice-like talons. They are made of keratin, which surrounds a living core. As their talons wear down, they continue to grow and get ...\n",
      "https://www.nps.gov/bibe/learn/nature/owls.htm?simple=true\n",
      "---\n",
      "Types of Owls: All Owl Species in the United States\n",
      "Nineteen types of owls are found in the United States, ranging from the diminutive Elf Owl to the massive Great Gray Owl. Check out the ...\n",
      "https://abcbirds.org/blog20/owl-species-united-states/\n",
      "---\n",
      "Owls | Audubon\n",
      "Audubon protects birds and the places they need, today and tomorrow. Learn about our work. Stay connected.\n",
      "https://www.audubon.org/bird-family/owls\n"
     ]
    }
   ],
   "source": [
    "print(contexts)"
   ]
  },
  {
   "cell_type": "code",
   "execution_count": 49,
   "metadata": {},
   "outputs": [],
   "source": [
    "@tool(\"web_search\")\n",
    "def web_search(query: str):\n",
    "   \"\"\"Finds general knowledge information using Google search. Can also be used\n",
    "   to augment more 'general' knowledge to a previous specialist query.\"\"\"\n",
    "   search = GoogleSearch({\n",
    "       **serpapi_params,\n",
    "       \"q\": query,\n",
    "       \"num\": 5\n",
    "   })\n",
    "   results = search.get_dict()[\"organic_results\"]\n",
    "   contexts = \"\\n---\\n\".join(\n",
    "       [\"\\n\".join([x[\"title\"], x[\"snippet\"], x[\"link\"]]) for x in results]\n",
    "   )\n",
    "   return contexts"
   ]
  },
  {
   "cell_type": "code",
   "execution_count": 50,
   "metadata": {},
   "outputs": [
    {
     "data": {
      "text/plain": [
       "'How to Leverage Large Language Models for Business\\nLLMs are highly effective models for language translation, enabling businesses to translate content quickly and accurately. By training an LLM ...\\nhttps://www.allganize.ai/en/blog/how-to-leverage-large-language-models-for-business-best-practices-and-case-studies\\n---\\n6 ideas to leverage large language models\\nLarge language models are transforming industries. Discover 6 innovative ideas to use this powerful AI program.\\nhttps://www.softwebsolutions.com/resources/potential-ai-large-language-models.html\\n---\\n10 Ways Businesses Can Leverage Large Language Models\\n10 Ways Businesses Can Leverage Large Language Models · 1Enhanced Search and Retrieval · 2Contextual Understanding · 3Semantic Analysis · 4 ...\\nhttps://www.devprojournal.com/technology-trends/llms/10-ways-businesses-can-leverage-large-language-models/\\n---\\nLarge Language Models and AI for business\\nWe help you understand Large Language Models (LLMs) and Generative AI and how you can leverage them to drive revenue growth and cost reduction.\\nhttps://jbrec.com/insights/large-language-models-llm-generative-ai-explained-for-business/\\n---\\nHow to Take Advantage of Large Language Models for ...\\n1. Leveraging LLM Apps ... At the most basic level, applications like ChatGPT or Gemini (and apps that make use of LLMs) provide businesses with ...\\nhttps://www.linkedin.com/pulse/how-take-advantage-large-language-models-business-options-hidalgo-0erpf'"
      ]
     },
     "execution_count": 50,
     "metadata": {},
     "output_type": "execute_result"
    }
   ],
   "source": [
    "web_search.invoke(input={\"query\": \"How to leverage large language models in business?\"})"
   ]
  },
  {
   "cell_type": "code",
   "execution_count": 51,
   "metadata": {},
   "outputs": [],
   "source": [
    "@tool(\"final_answer\")\n",
    "def final_answer(\n",
    "   introduction: str,\n",
    "   research_steps: str,\n",
    "   main_body: str,\n",
    "   conclusion: str,\n",
    "   sources: str\n",
    "):\n",
    "   \"\"\"Returns a natural language response to the user in the form of a research\n",
    "   report. There are several sections to this report, those are:\n",
    "   - `introduction`: a short paragraph introducing the user's question and the\n",
    "   topic we are researching.\n",
    "   - `research_steps`: a few bullet points explaining the steps that were taken\n",
    "   to research your report.\n",
    "   - `main_body`: this is where the bulk of high quality and concise\n",
    "   information that answers the user's question belongs. It is 3-4 paragraphs\n",
    "   long in length.\n",
    "   - `conclusion`: this is a short single paragraph conclusion providing a\n",
    "   concise but sophisticated view on what was found.\n",
    "   - `sources`: a bulletpoint list provided detailed sources for all information\n",
    "   referenced during the research process\n",
    "   \"\"\"\n",
    "   if type(research_steps) is list:\n",
    "       research_steps = \"\\n\".join([f\"- {r}\" for r in research_steps])\n",
    "   if type(sources) is list:\n",
    "       sources = \"\\n\".join([f\"- {s}\" for s in sources])\n",
    "   return \"\""
   ]
  },
  {
   "cell_type": "code",
   "execution_count": 52,
   "metadata": {},
   "outputs": [],
   "source": [
    "from langchain_core.prompts import ChatPromptTemplate, MessagesPlaceholder\n",
    "\n",
    "\n",
    "system_prompt = \"\"\"You are the oracle, the great AI decision maker.\n",
    "Given the user's query you must decide what to do with it based on the\n",
    "list of tools provided to you.\n",
    "\n",
    "\n",
    "If you see that a tool has been used (in the scratchpad) with a particular\n",
    "query, do NOT use that same tool with the same query again. Also, do NOT use\n",
    "any tool more than twice (ie, if the tool appears in the scratchpad twice, do\n",
    "not use it again).\n",
    "\n",
    "\n",
    "You should aim to collect information from a diverse range of sources before\n",
    "providing the answer to the user. Once you have collected plenty of information\n",
    "to answer the user's question (stored in the scratchpad) use the final_answer\n",
    "tool.\"\"\"\n",
    "\n",
    "\n",
    "prompt = ChatPromptTemplate.from_messages([\n",
    "   (\"system\", system_prompt),\n",
    "   MessagesPlaceholder(variable_name=\"chat_history\"),\n",
    "   (\"user\", \"{input}\"),\n",
    "   (\"assistant\", \"scratchpad: {scratchpad}\"),\n",
    "])"
   ]
  },
  {
   "cell_type": "code",
   "execution_count": 67,
   "metadata": {},
   "outputs": [],
   "source": [
    "from langchain_core.messages import ToolCall, ToolMessage\n",
    "from langchain_openai import ChatOpenAI\n",
    "\n",
    "\n",
    "llm = ChatOpenAI(\n",
    "   model=\"gpt-4o\",\n",
    "   openai_api_key=os.environ[\"OPENAI_API_KEY\"],\n",
    "   temperature=0\n",
    ")"
   ]
  },
  {
   "cell_type": "code",
   "execution_count": 54,
   "metadata": {},
   "outputs": [],
   "source": [
    "tools = [fetch_arxiv, web_search, final_answer]"
   ]
  },
  {
   "cell_type": "code",
   "execution_count": 68,
   "metadata": {},
   "outputs": [],
   "source": [
    "# define a function to transform intermediate_steps from list\n",
    "# of AgentAction to scratchpad string\n",
    "def create_scratchpad(intermediate_steps: list[AgentAction]):\n",
    "   research_steps = []\n",
    "   for i, action in enumerate(intermediate_steps):\n",
    "       if action.log != \"TBD\":\n",
    "           # this was the ToolExecution\n",
    "           research_steps.append(\n",
    "               f\"Tool: {action.tool}, input: {action.tool_input}\\n\"\n",
    "               f\"Output: {action.log}\"\n",
    "           )\n",
    "   return \"\\n---\\n\".join(research_steps)\n",
    "\n",
    "\n",
    "oracle = (\n",
    "   {\n",
    "       \"input\": lambda x: x[\"input\"],\n",
    "       \"chat_history\": lambda x: x[\"chat_history\"],\n",
    "       \"scratchpad\": lambda x: create_scratchpad(\n",
    "           intermediate_steps=x[\"intermediate_steps\"]\n",
    "       ),\n",
    "   }\n",
    "   | prompt\n",
    "   | llm.bind_tools(tools, tool_choice=\"any\")\n",
    ")"
   ]
  },
  {
   "cell_type": "code",
   "execution_count": 56,
   "metadata": {},
   "outputs": [
    {
     "data": {
      "text/plain": [
       "AIMessage(content='', additional_kwargs={'tool_calls': [{'id': 'call_xGVWrK4rSf26lt5h44himARz', 'function': {'arguments': '{\"query\":\"using large language models to build a pancake business\"}', 'name': 'web_search'}, 'type': 'function'}]}, response_metadata={'token_usage': {'completion_tokens': 20, 'prompt_tokens': 468, 'total_tokens': 488}, 'model_name': 'gpt-4o-mini-2024-07-18', 'system_fingerprint': 'fp_48196bc67a', 'finish_reason': 'stop', 'logprobs': None}, id='run-5c8fd7c9-aa16-41f5-a8b7-b97e7834cfbf-0', tool_calls=[{'name': 'web_search', 'args': {'query': 'using large language models to build a pancake business'}, 'id': 'call_xGVWrK4rSf26lt5h44himARz'}], usage_metadata={'input_tokens': 468, 'output_tokens': 20, 'total_tokens': 488})"
      ]
     },
     "execution_count": 56,
     "metadata": {},
     "output_type": "execute_result"
    }
   ],
   "source": [
    "inputs = {\n",
    "    \"input\": \"How to uselarge language models to build a pancake business?\",\n",
    "    \"chat_history\": [],\n",
    "    \"intermediate_steps\": [],\n",
    "}\n",
    "out = oracle.invoke(inputs)\n",
    "out"
   ]
  },
  {
   "cell_type": "code",
   "execution_count": 57,
   "metadata": {},
   "outputs": [
    {
     "data": {
      "text/plain": [
       "'web_search'"
      ]
     },
     "execution_count": 57,
     "metadata": {},
     "output_type": "execute_result"
    }
   ],
   "source": [
    "out.tool_calls[0][\"name\"]"
   ]
  },
  {
   "cell_type": "code",
   "execution_count": 58,
   "metadata": {},
   "outputs": [
    {
     "data": {
      "text/plain": [
       "{'query': 'using large language models to build a pancake business'}"
      ]
     },
     "execution_count": 58,
     "metadata": {},
     "output_type": "execute_result"
    }
   ],
   "source": [
    "out.tool_calls[0][\"args\"]"
   ]
  },
  {
   "cell_type": "code",
   "execution_count": 59,
   "metadata": {},
   "outputs": [],
   "source": [
    "from typing import TypedDict\n",
    "\n",
    "\n",
    "def run_oracle(state: TypedDict):\n",
    "   print(\"run_oracle\")\n",
    "   print(f\"intermediate_steps: {state['intermediate_steps']}\")\n",
    "   out = oracle.invoke(state)\n",
    "   tool_name = out.tool_calls[0][\"name\"]\n",
    "   tool_args = out.tool_calls[0][\"args\"]\n",
    "   action_out = AgentAction(\n",
    "       tool=tool_name,\n",
    "       tool_input=tool_args,\n",
    "       log=\"TBD\"\n",
    "   )\n",
    "   return {\n",
    "       \"intermediate_steps\": [action_out]\n",
    "   }\n",
    "\n",
    "\n",
    "def router(state: TypedDict):\n",
    "   # return the tool name to use\n",
    "   if isinstance(state[\"intermediate_steps\"], list):\n",
    "       return state[\"intermediate_steps\"][-1].tool\n",
    "   else:\n",
    "       # if we output bad format go to final answer\n",
    "       print(\"Router invalid format\")\n",
    "       return \"final_answer\""
   ]
  },
  {
   "cell_type": "code",
   "execution_count": 60,
   "metadata": {},
   "outputs": [],
   "source": [
    "tool_str_to_func = {\n",
    "   \"fetch_arxiv\": fetch_arxiv,\n",
    "   \"web_search\": web_search,\n",
    "   \"final_answer\": final_answer\n",
    "}\n",
    "\n",
    "\n",
    "def run_tool(state: TypedDict):\n",
    "   # use this as helper function so we repeat less code\n",
    "   tool_name = state[\"intermediate_steps\"][-1].tool\n",
    "   tool_args = state[\"intermediate_steps\"][-1].tool_input\n",
    "   print(f\"{tool_name}.invoke(input={tool_args})\")\n",
    "   # run tool\n",
    "   out = tool_str_to_func[tool_name].invoke(input=tool_args)\n",
    "   action_out = AgentAction(\n",
    "       tool=tool_name,\n",
    "       tool_input=tool_args,\n",
    "       log=str(out)\n",
    "   )\n",
    "   return {\"intermediate_steps\": [action_out]}"
   ]
  },
  {
   "cell_type": "code",
   "execution_count": 61,
   "metadata": {},
   "outputs": [],
   "source": [
    "from langgraph.graph import StateGraph, END\n",
    "\n",
    "\n",
    "# initialize the graph with our AgentState\n",
    "graph = StateGraph(AgentState)\n",
    "\n",
    "# add nodes\n",
    "graph.add_node(\"oracle\", run_oracle)\n",
    "graph.add_node(\"fetch_arxiv\", run_tool)\n",
    "graph.add_node(\"web_search\", run_tool)\n",
    "graph.add_node(\"final_answer\", run_tool)\n",
    "\n",
    "# specify the entry node\n",
    "graph.set_entry_point(\"oracle\")\n",
    "\n",
    "# add the conditional edges which use the router\n",
    "graph.add_conditional_edges(\n",
    "   source=\"oracle\",  # where in graph to start\n",
    "   path=router,  # function to determine which node is called\n",
    ")\n",
    "\n",
    "# create edges from each tool back to the oracle\n",
    "for tool_obj in tools:\n",
    "   if tool_obj.name != \"final_answer\":\n",
    "       graph.add_edge(tool_obj.name, \"oracle\")\n",
    "       \n",
    "# if anything goes to final answer, it must then move to END\n",
    "graph.add_edge(\"final_answer\", END)\n",
    "\n",
    "# finally, we compile our graph\n",
    "runnable = graph.compile()"
   ]
  },
  {
   "cell_type": "code",
   "execution_count": 62,
   "metadata": {},
   "outputs": [
    {
     "data": {
      "image/jpeg": "[encoded data removed]",
      "text/plain": [
       "<IPython.core.display.Image object>"
      ]
     },
     "execution_count": 62,
     "metadata": {},
     "output_type": "execute_result"
    }
   ],
   "source": [
    "from IPython.display import Image\n",
    "\n",
    "Image(runnable.get_graph().draw_mermaid_png())"
   ]
  },
  {
   "cell_type": "code",
   "execution_count": 69,
   "metadata": {},
   "outputs": [
    {
     "name": "stdout",
     "output_type": "stream",
     "text": [
      "run_oracle\n",
      "intermediate_steps: []\n",
      "web_search.invoke(input={'query': 'how coffee impacts productivity in startup culture'})\n",
      "run_oracle\n",
      "intermediate_steps: [AgentAction(tool='web_search', tool_input={'query': 'how coffee impacts productivity in startup culture'}, log='TBD'), AgentAction(tool='web_search', tool_input={'query': 'how coffee impacts productivity in startup culture'}, log=\"Coffee in the Workplace: Fueling Productivity and ...\\nCoffee not only enhances individual productivity but also has a positive impact on team dynamics. When employees gather around the coffee ...\\nhttps://www.linkedin.com/pulse/coffee-workplace-fueling-productivity-cultivating-mirko-spinella\\n---\\nHOW COFFEE BREAKS BOOST BUSINESS PRODUCTIVITY\\nIncreased motivation and performance: Coffee breaks can provide employees with a sense of autonomy, recognition, and appreciation. They can also ...\\nhttps://www.abbusiness.com/2024/02/06/how-coffee-breaks-boost-business-productivity/\\n---\\nThe Effect of Coffee on People's Productivity\\n1. Coffee Improving Productivity. Drinking caffeine in a coffee cup will help employees stay focused and concentrate on better work. · 2.\\nhttps://www.linkedin.com/pulse/effect-coffee-peoples-productivity-kurniawan-arif-maspul\\n---\\nDoes Coffee Make You More Productive?\\nExtensive research has shown that caffeine consumption is associated with an increase in alertness, concentration, and performance. This is part ...\\nhttps://wanderingbearcoffee.com/blogs/articles/connection-between-coffee-productivity\\n---\\nWhy You Should Embrace Coffee Culture in the Workplace\\nFrom improved creativity and communication to increased motivation and morale, coffee culture can have a positive impact on your business.\\nhttps://www.entrepreneur.com/living/why-you-should-embrace-coffee-culture-in-the-workplace/426364\")]\n",
      "web_search.invoke(input={'query': 'how coffee impacts productivity in startup culture'})\n",
      "run_oracle\n",
      "intermediate_steps: [AgentAction(tool='web_search', tool_input={'query': 'how coffee impacts productivity in startup culture'}, log='TBD'), AgentAction(tool='web_search', tool_input={'query': 'how coffee impacts productivity in startup culture'}, log=\"Coffee in the Workplace: Fueling Productivity and ...\\nCoffee not only enhances individual productivity but also has a positive impact on team dynamics. When employees gather around the coffee ...\\nhttps://www.linkedin.com/pulse/coffee-workplace-fueling-productivity-cultivating-mirko-spinella\\n---\\nHOW COFFEE BREAKS BOOST BUSINESS PRODUCTIVITY\\nIncreased motivation and performance: Coffee breaks can provide employees with a sense of autonomy, recognition, and appreciation. They can also ...\\nhttps://www.abbusiness.com/2024/02/06/how-coffee-breaks-boost-business-productivity/\\n---\\nThe Effect of Coffee on People's Productivity\\n1. Coffee Improving Productivity. Drinking caffeine in a coffee cup will help employees stay focused and concentrate on better work. · 2.\\nhttps://www.linkedin.com/pulse/effect-coffee-peoples-productivity-kurniawan-arif-maspul\\n---\\nDoes Coffee Make You More Productive?\\nExtensive research has shown that caffeine consumption is associated with an increase in alertness, concentration, and performance. This is part ...\\nhttps://wanderingbearcoffee.com/blogs/articles/connection-between-coffee-productivity\\n---\\nWhy You Should Embrace Coffee Culture in the Workplace\\nFrom improved creativity and communication to increased motivation and morale, coffee culture can have a positive impact on your business.\\nhttps://www.entrepreneur.com/living/why-you-should-embrace-coffee-culture-in-the-workplace/426364\"), AgentAction(tool='web_search', tool_input={'query': 'how coffee impacts productivity in startup culture'}, log='TBD'), AgentAction(tool='web_search', tool_input={'query': 'how coffee impacts productivity in startup culture'}, log=\"Coffee in the Workplace: Fueling Productivity and ...\\nCoffee not only enhances individual productivity but also has a positive impact on team dynamics. When employees gather around the coffee ...\\nhttps://www.linkedin.com/pulse/coffee-workplace-fueling-productivity-cultivating-mirko-spinella\\n---\\nHOW COFFEE BREAKS BOOST BUSINESS PRODUCTIVITY\\nIncreased motivation and performance: Coffee breaks can provide employees with a sense of autonomy, recognition, and appreciation. They can also ...\\nhttps://www.abbusiness.com/2024/02/06/how-coffee-breaks-boost-business-productivity/\\n---\\nThe Effect of Coffee on People's Productivity\\n1. Coffee Improving Productivity. Drinking caffeine in a coffee cup will help employees stay focused and concentrate on better work. · 2.\\nhttps://www.linkedin.com/pulse/effect-coffee-peoples-productivity-kurniawan-arif-maspul\\n---\\nDoes Coffee Make You More Productive?\\nExtensive research has shown that caffeine consumption is associated with an increase in alertness, concentration, and performance. This is part ...\\nhttps://wanderingbearcoffee.com/blogs/articles/connection-between-coffee-productivity\\n---\\nWhy You Should Embrace Coffee Culture in the Workplace\\nFrom improved creativity and communication to increased motivation and morale, coffee culture can have a positive impact on your business.\\nhttps://www.entrepreneur.com/living/why-you-should-embrace-coffee-culture-in-the-workplace/426364\")]\n",
      "final_answer.invoke(input={'introduction': 'Coffee is a staple in many workplaces, especially in startup cultures where long hours and high demands are common. This research report explores how coffee impacts productivity in startup environments, examining both individual and team dynamics.', 'research_steps': '1. Conducted a web search to gather information on the impact of coffee on productivity in the workplace.\\n2. Reviewed articles and studies that discuss the role of coffee in enhancing individual and team performance.\\n3. Compiled findings to provide a comprehensive overview of the topic.', 'main_body': 'Coffee has long been considered a productivity booster, and its role in startup culture is particularly significant. In startups, where employees often work long hours and face high levels of stress, coffee serves as a crucial tool for maintaining alertness and focus. Research indicates that caffeine, the primary active ingredient in coffee, enhances cognitive functions such as memory, attention, and problem-solving skills. This makes it easier for employees to tackle complex tasks and maintain high levels of performance throughout the day.\\n\\nMoreover, coffee breaks can foster a sense of community and collaboration among team members. In startup environments, where teamwork and innovation are key, these breaks provide opportunities for informal discussions and brainstorming sessions. This can lead to increased creativity and the generation of new ideas, which are essential for the growth and success of startups. Additionally, the social aspect of coffee breaks can improve morale and reduce feelings of isolation, which are common in high-pressure work settings.\\n\\nStudies have also shown that coffee consumption can lead to increased motivation and job satisfaction. The ritual of taking a coffee break can provide employees with a sense of autonomy and recognition, contributing to a more positive work environment. This, in turn, can lead to higher levels of engagement and productivity. Furthermore, the physical act of stepping away from the desk to grab a coffee can help reduce stress and prevent burnout, allowing employees to return to their tasks with renewed energy and focus.', 'conclusion': 'In conclusion, coffee plays a multifaceted role in enhancing productivity in startup cultures. It not only boosts individual cognitive functions but also fosters team collaboration and improves overall job satisfaction. Embracing coffee culture in the workplace can lead to a more motivated, creative, and productive workforce, which is crucial for the success of startups.', 'sources': \"- [Coffee in the Workplace: Fueling Productivity and Cultivating Team Dynamics](https://www.linkedin.com/pulse/coffee-workplace-fueling-productivity-cultivating-mirko-spinella)\\n- [HOW COFFEE BREAKS BOOST BUSINESS PRODUCTIVITY](https://www.abbusiness.com/2024/02/06/how-coffee-breaks-boost-business-productivity/)\\n- [The Effect of Coffee on People's Productivity](https://www.linkedin.com/pulse/effect-coffee-peoples-productivity-kurniawan-arif-maspul)\\n- [Does Coffee Make You More Productive?](https://wanderingbearcoffee.com/blogs/articles/connection-between-coffee-productivity)\\n- [Why You Should Embrace Coffee Culture in the Workplace](https://www.entrepreneur.com/living/why-you-should-embrace-coffee-culture-in-the-workplace/426364)\"})\n"
     ]
    }
   ],
   "source": [
    "# research_topic = \"Write a report explaining 5 ways through which LLMs can be used to enhance human research. Make sure to include all the sources used with their respective urls.\"\n",
    "# research_topic = \"\"\"The Impact of Remote Work on Employee Productivity and Organizational Culture in Tech Startups. Include the resources urls mixed in the report.\"\"\"\n",
    "# research_topic = \"Sustainable Coffee Supply Chain Management: Optimizing Business Practices for Ethical Sourcing and Environmental Impact\"\n",
    "research_topic = \"Write a research report about how coffee impacts productivity in startup culture? Include all the urls in the reference section in markdown format.\"\n",
    "out = runnable.invoke({\n",
    "    \"input\": research_topic,\n",
    "    \"chat_history\": [],\n",
    "})"
   ]
  },
  {
   "cell_type": "code",
   "execution_count": 70,
   "metadata": {},
   "outputs": [
    {
     "data": {
      "text/plain": [
       "{'introduction': 'Coffee is a staple in many workplaces, especially in startup cultures where long hours and high demands are common. This research report explores how coffee impacts productivity in startup environments, examining both individual and team dynamics.',\n",
       " 'research_steps': '1. Conducted a web search to gather information on the impact of coffee on productivity in the workplace.\\n2. Reviewed articles and studies that discuss the role of coffee in enhancing individual and team performance.\\n3. Compiled findings to provide a comprehensive overview of the topic.',\n",
       " 'main_body': 'Coffee has long been considered a productivity booster, and its role in startup culture is particularly significant. In startups, where employees often work long hours and face high levels of stress, coffee serves as a crucial tool for maintaining alertness and focus. Research indicates that caffeine, the primary active ingredient in coffee, enhances cognitive functions such as memory, attention, and problem-solving skills. This makes it easier for employees to tackle complex tasks and maintain high levels of performance throughout the day.\\n\\nMoreover, coffee breaks can foster a sense of community and collaboration among team members. In startup environments, where teamwork and innovation are key, these breaks provide opportunities for informal discussions and brainstorming sessions. This can lead to increased creativity and the generation of new ideas, which are essential for the growth and success of startups. Additionally, the social aspect of coffee breaks can improve morale and reduce feelings of isolation, which are common in high-pressure work settings.\\n\\nStudies have also shown that coffee consumption can lead to increased motivation and job satisfaction. The ritual of taking a coffee break can provide employees with a sense of autonomy and recognition, contributing to a more positive work environment. This, in turn, can lead to higher levels of engagement and productivity. Furthermore, the physical act of stepping away from the desk to grab a coffee can help reduce stress and prevent burnout, allowing employees to return to their tasks with renewed energy and focus.',\n",
       " 'conclusion': 'In conclusion, coffee plays a multifaceted role in enhancing productivity in startup cultures. It not only boosts individual cognitive functions but also fosters team collaboration and improves overall job satisfaction. Embracing coffee culture in the workplace can lead to a more motivated, creative, and productive workforce, which is crucial for the success of startups.',\n",
       " 'sources': \"- [Coffee in the Workplace: Fueling Productivity and Cultivating Team Dynamics](https://www.linkedin.com/pulse/coffee-workplace-fueling-productivity-cultivating-mirko-spinella)\\n- [HOW COFFEE BREAKS BOOST BUSINESS PRODUCTIVITY](https://www.abbusiness.com/2024/02/06/how-coffee-breaks-boost-business-productivity/)\\n- [The Effect of Coffee on People's Productivity](https://www.linkedin.com/pulse/effect-coffee-peoples-productivity-kurniawan-arif-maspul)\\n- [Does Coffee Make You More Productive?](https://wanderingbearcoffee.com/blogs/articles/connection-between-coffee-productivity)\\n- [Why You Should Embrace Coffee Culture in the Workplace](https://www.entrepreneur.com/living/why-you-should-embrace-coffee-culture-in-the-workplace/426364)\"}"
      ]
     },
     "execution_count": 70,
     "metadata": {},
     "output_type": "execute_result"
    }
   ],
   "source": [
    "out['intermediate_steps'][-1].tool_input"
   ]
  },
  {
   "cell_type": "code",
   "execution_count": 71,
   "metadata": {},
   "outputs": [],
   "source": [
    "def build_report(output: dict):\n",
    "   sources = output[\"sources\"]\n",
    "   if type(sources) is list:\n",
    "       sources = \"\\n\".join([f\"- {s}\" for s in sources])\n",
    "   return f\"\"\"\n",
    "# INTRODUCTION\n",
    "------------\n",
    "{output[\"introduction\"]}\n",
    "\n",
    "\n",
    "# REPORT\n",
    "------\n",
    "{output[\"main_body\"]}\n",
    "\n",
    "\n",
    "# CONCLUSION\n",
    "----------\n",
    "{output[\"conclusion\"]}\n",
    "\n",
    "\n",
    "# SOURCES\n",
    "-------\n",
    "{sources}\n",
    "\"\"\""
   ]
  },
  {
   "cell_type": "code",
   "execution_count": 72,
   "metadata": {},
   "outputs": [
    {
     "data": {
      "text/markdown": [
       "\n",
       "# INTRODUCTION\n",
       "------------\n",
       "Coffee is a staple in many workplaces, especially in startup cultures where long hours and high demands are common. This research report explores how coffee impacts productivity in startup environments, examining both individual and team dynamics.\n",
       "\n",
       "\n",
       "# REPORT\n",
       "------\n",
       "Coffee has long been considered a productivity booster, and its role in startup culture is particularly significant. In startups, where employees often work long hours and face high levels of stress, coffee serves as a crucial tool for maintaining alertness and focus. Research indicates that caffeine, the primary active ingredient in coffee, enhances cognitive functions such as memory, attention, and problem-solving skills. This makes it easier for employees to tackle complex tasks and maintain high levels of performance throughout the day.\n",
       "\n",
       "Moreover, coffee breaks can foster a sense of community and collaboration among team members. In startup environments, where teamwork and innovation are key, these breaks provide opportunities for informal discussions and brainstorming sessions. This can lead to increased creativity and the generation of new ideas, which are essential for the growth and success of startups. Additionally, the social aspect of coffee breaks can improve morale and reduce feelings of isolation, which are common in high-pressure work settings.\n",
       "\n",
       "Studies have also shown that coffee consumption can lead to increased motivation and job satisfaction. The ritual of taking a coffee break can provide employees with a sense of autonomy and recognition, contributing to a more positive work environment. This, in turn, can lead to higher levels of engagement and productivity. Furthermore, the physical act of stepping away from the desk to grab a coffee can help reduce stress and prevent burnout, allowing employees to return to their tasks with renewed energy and focus.\n",
       "\n",
       "\n",
       "# CONCLUSION\n",
       "----------\n",
       "In conclusion, coffee plays a multifaceted role in enhancing productivity in startup cultures. It not only boosts individual cognitive functions but also fosters team collaboration and improves overall job satisfaction. Embracing coffee culture in the workplace can lead to a more motivated, creative, and productive workforce, which is crucial for the success of startups.\n",
       "\n",
       "\n",
       "# SOURCES\n",
       "-------\n",
       "- [Coffee in the Workplace: Fueling Productivity and Cultivating Team Dynamics](https://www.linkedin.com/pulse/coffee-workplace-fueling-productivity-cultivating-mirko-spinella)\n",
       "- [HOW COFFEE BREAKS BOOST BUSINESS PRODUCTIVITY](https://www.abbusiness.com/2024/02/06/how-coffee-breaks-boost-business-productivity/)\n",
       "- [The Effect of Coffee on People's Productivity](https://www.linkedin.com/pulse/effect-coffee-peoples-productivity-kurniawan-arif-maspul)\n",
       "- [Does Coffee Make You More Productive?](https://wanderingbearcoffee.com/blogs/articles/connection-between-coffee-productivity)\n",
       "- [Why You Should Embrace Coffee Culture in the Workplace](https://www.entrepreneur.com/living/why-you-should-embrace-coffee-culture-in-the-workplace/426364)\n"
      ],
      "text/plain": [
       "<IPython.core.display.Markdown object>"
      ]
     },
     "execution_count": 72,
     "metadata": {},
     "output_type": "execute_result"
    }
   ],
   "source": [
    "from IPython.display import Markdown\n",
    "\n",
    "Markdown(build_report(\n",
    "    output=out[\"intermediate_steps\"][-1].tool_input\n",
    "))"
   ]
  }
 ],
 "metadata": {
  "kernelspec": {
   "display_name": "agents-for-research",
   "language": "python",
   "name": "agents-for-research"
  },
  "language_info": {
   "codemirror_mode": {
    "name": "ipython",
    "version": 3
   },
   "file_extension": ".py",
   "mimetype": "text/x-python",
   "name": "python",
   "nbconvert_exporter": "python",
   "pygments_lexer": "ipython3",
   "version": "3.11.9"
  }
 },
 "nbformat": 4,
 "nbformat_minor": 2
}
